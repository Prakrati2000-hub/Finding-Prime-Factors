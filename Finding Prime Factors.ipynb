{
 "cells": [
  {
   "cell_type": "markdown",
   "metadata": {},
   "source": [
    "# Finding Prime Factors\n",
    "Prime factors are prime numbers that exactly divide an integer without leaving a remainder. Finding prime factors seems almost\n",
    "impossible for big numbers. Therefore, prime factors have an application in cryptography. However, using the right algorithm—Fermat's factorization method and NumPy—factoring becomes relatively easy for small numbers. The idea is to factor a number N into two numbers, c and d, according to the following equation:\n",
    "                        N=cd=(a+b)(a-b)\n",
    "We can apply the factorization recursively until we get the required prime factors."
   ]
  },
  {
   "cell_type": "markdown",
   "metadata": {},
   "source": [
    "# How to do it\n",
    "The following is the entire code needed to solve the problem of inding the largest prime factor"
   ]
  },
  {
   "cell_type": "code",
   "execution_count": 14,
   "metadata": {},
   "outputs": [
    {
     "name": "stdout",
     "output_type": "stream",
     "text": [
      "1234169 486847\n",
      "1471 839\n",
      "6857 71\n"
     ]
    }
   ],
   "source": [
    "from __future__ import print_function\n",
    "import numpy as np\n",
    "#The prime factors of 13195 are 5, 7, 13 and 29.\n",
    "#What is the largest prime factor of the number 600851475143 ?\n",
    "N = 600851475143\n",
    "LIM = 10 ** 6\n",
    "def factor(n):\n",
    " #1. Create array of trial values\n",
    " a = np.ceil(np.sqrt(n))\n",
    " lim = min(n, LIM)\n",
    " a = np.arange(a, a + lim)\n",
    " b2 = a ** 2 - n\n",
    "#2. Check whether b is a square\n",
    " fractions = np.modf(np.sqrt(b2))[0]\n",
    "#3. Find 0 fractions\n",
    " indices = np.where(fractions == 0)\n",
    " #4. Find the first occurrence of a 0 fraction\n",
    " a = np.ravel(np.take(a, indices))[0]\n",
    " # Or a = a[indices][0]\n",
    " a = int(a)\n",
    " b = np.sqrt(a ** 2 - n)\n",
    " b = int(b)\n",
    " c = a + b\n",
    " d = a - b\n",
    " if c == 1 or d == 1:\n",
    "     return \n",
    " print(c, d)\n",
    " factor(c)\n",
    " factor(d)\n",
    "factor(N)\n"
   ]
  }
 ],
 "metadata": {
  "kernelspec": {
   "display_name": "Python 3",
   "language": "python",
   "name": "python3"
  },
  "language_info": {
   "codemirror_mode": {
    "name": "ipython",
    "version": 3
   },
   "file_extension": ".py",
   "mimetype": "text/x-python",
   "name": "python",
   "nbconvert_exporter": "python",
   "pygments_lexer": "ipython3",
   "version": "3.7.4"
  }
 },
 "nbformat": 4,
 "nbformat_minor": 2
}
